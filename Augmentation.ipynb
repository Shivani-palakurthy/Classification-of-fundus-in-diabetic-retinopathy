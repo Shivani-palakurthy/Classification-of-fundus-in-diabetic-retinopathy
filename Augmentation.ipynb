{
  "nbformat": 4,
  "nbformat_minor": 0,
  "metadata": {
    "colab": {
      "name": "Augmentation.ipynb",
      "provenance": []
    },
    "kernelspec": {
      "name": "python3",
      "display_name": "Python 3"
    },
    "language_info": {
      "name": "python"
    }
  },
  "cells": [
    {
      "cell_type": "code",
      "source": [
        "from google.colab import drive\n",
        "drive.mount('/content/gdrive')"
      ],
      "metadata": {
        "colab": {
          "base_uri": "https://localhost:8080/"
        },
        "id": "vKWQyLFre77S",
        "outputId": "146fe2f8-706e-443e-c39b-59068ac7994d"
      },
      "execution_count": 2,
      "outputs": [
        {
          "output_type": "stream",
          "name": "stdout",
          "text": [
            "Mounted at /content/gdrive\n"
          ]
        }
      ]
    },
    {
      "cell_type": "code",
      "source": [
        "!unzip /content/gdrive/MyDrive/test.zip"
      ],
      "metadata": {
        "colab": {
          "base_uri": "https://localhost:8080/"
        },
        "id": "Jdb4ForafH1r",
        "outputId": "b3e9fa53-8681-4526-b446-f4369c67895c"
      },
      "execution_count": 3,
      "outputs": [
        {
          "output_type": "stream",
          "name": "stdout",
          "text": [
            "Archive:  /content/gdrive/MyDrive/test.zip\n",
            "  inflating: segmented/image001.png  \n",
            "  inflating: segmented/image002.png  \n",
            "  inflating: segmented/image003.png  \n",
            "  inflating: segmented/image004.png  \n",
            "  inflating: segmented/image005.png  \n",
            "  inflating: segmented/image006.png  \n",
            "  inflating: segmented/image007.png  \n",
            "  inflating: segmented/image008.png  \n",
            "  inflating: segmented/image009.png  \n",
            "  inflating: segmented/image010.png  \n",
            "  inflating: segmented/image011.png  \n",
            "  inflating: segmented/image012.png  \n",
            "  inflating: segmented/image013.png  \n",
            "  inflating: segmented/image014.png  \n",
            "  inflating: segmented/image015.png  \n",
            "  inflating: segmented/image016.png  \n",
            "  inflating: segmented/image017.png  \n",
            "  inflating: segmented/image018.png  \n",
            "  inflating: segmented/image019.png  \n",
            "  inflating: segmented/image020.png  \n",
            "  inflating: segmented/image021.png  \n",
            "  inflating: segmented/image022.png  \n",
            "  inflating: segmented/image023.png  \n",
            "  inflating: segmented/image024.png  \n",
            "  inflating: segmented/image025.png  \n",
            "  inflating: segmented/image026.png  \n",
            "  inflating: segmented/image027.png  \n",
            "  inflating: segmented/image028.png  \n",
            "  inflating: segmented/image029.png  \n",
            "  inflating: segmented/image030.png  \n",
            "  inflating: segmented/image031.png  \n",
            "  inflating: segmented/image032.png  \n",
            "  inflating: segmented/image033.png  \n",
            "  inflating: segmented/image034.png  \n",
            "  inflating: segmented/image035.png  \n",
            "  inflating: segmented/image036.png  \n",
            "  inflating: segmented/image037.png  \n",
            "  inflating: segmented/image038.png  \n",
            "  inflating: segmented/image039.png  \n",
            "  inflating: segmented/image040.png  \n",
            "  inflating: segmented/image041.png  \n",
            "  inflating: segmented/image042.png  \n",
            "  inflating: segmented/image043.png  \n",
            "  inflating: segmented/image044.png  \n",
            "  inflating: segmented/image045.png  \n",
            "  inflating: segmented/image046.png  \n",
            "  inflating: segmented/image047.png  \n",
            "  inflating: segmented/image048.png  \n",
            "  inflating: segmented/image049.png  \n",
            "  inflating: segmented/image050.png  \n",
            "  inflating: segmented/image051.png  \n",
            "  inflating: segmented/image052.png  \n",
            "  inflating: segmented/image053.png  \n",
            "  inflating: segmented/image054.png  \n",
            "  inflating: segmented/image055.png  \n",
            "  inflating: segmented/image056.png  \n",
            "  inflating: segmented/image057.png  \n",
            "  inflating: segmented/image058.png  \n",
            "  inflating: segmented/image059.png  \n",
            "  inflating: segmented/image060.png  \n",
            "  inflating: segmented/image061.png  \n",
            "  inflating: segmented/image062.png  \n",
            "  inflating: segmented/image063.png  \n",
            "  inflating: segmented/image064.png  \n",
            "  inflating: segmented/image065.png  \n",
            "  inflating: segmented/image066.png  \n",
            "  inflating: segmented/image067.png  \n",
            "  inflating: segmented/image068.png  \n",
            "  inflating: segmented/image069.png  \n",
            "  inflating: segmented/image070.png  \n",
            "  inflating: segmented/image071.png  \n",
            "  inflating: segmented/image072.png  \n",
            "  inflating: segmented/image073.png  \n",
            "  inflating: segmented/image074.png  \n",
            "  inflating: segmented/image075.png  \n",
            "  inflating: segmented/image076.png  \n",
            "  inflating: segmented/image077.png  \n",
            "  inflating: segmented/image078.png  \n",
            "  inflating: segmented/image079.png  \n",
            "  inflating: segmented/image080.png  \n",
            "  inflating: segmented/image081.png  \n",
            "  inflating: segmented/image082.png  \n",
            "  inflating: segmented/image083.png  \n",
            "  inflating: segmented/image084.png  \n",
            "  inflating: segmented/image085.png  \n",
            "  inflating: segmented/image086.png  \n",
            "  inflating: segmented/image087.png  \n",
            "  inflating: segmented/image088.png  \n",
            "  inflating: segmented/image089.png  \n"
          ]
        }
      ]
    },
    {
      "cell_type": "code",
      "source": [
        "!unzip /content/gdrive/MyDrive/train.zip>/dev/null"
      ],
      "metadata": {
        "id": "6YDWVbpPfLgx"
      },
      "execution_count": 4,
      "outputs": []
    },
    {
      "cell_type": "code",
      "execution_count": 5,
      "metadata": {
        "id": "WaeWWMaBehds"
      },
      "outputs": [],
      "source": [
        "# Importing necessary functions for augmentation\n",
        "from keras.preprocessing.image import ImageDataGenerator,array_to_img, img_to_array, load_img\n",
        "   \n",
        "# Initialising the ImageDataGenerator class.\n",
        "# We will pass in the augmentation parameters in the constructor.\n",
        "datagen = ImageDataGenerator(\n",
        "        rotation_range = 60,\n",
        "        shear_range = 0.2,\n",
        "        zoom_range = 0.2,\n",
        "        horizontal_flip = True,\n",
        "        brightness_range = (0.5, 1.5))\n",
        "    \n",
        "# Loading a sample image \n",
        "img = load_img('segmented/image032.png') \n",
        "# Converting the input sample image to an array\n",
        "x = img_to_array(img)\n",
        "# Reshaping the input image\n",
        "x = x.reshape((1, ) + x.shape) \n",
        "   \n",
        "# Generating and saving 5 augmented samples \n",
        "# using the above defined parameters. \n",
        "i = 0\n",
        "for batch in datagen.flow(x, batch_size = 1,\n",
        "                          save_to_dir ='/content/gdrive/MyDrive/aug2', \n",
        "                          save_prefix ='image', save_format ='png'):\n",
        "    i += 1\n",
        "    if i > 5:\n",
        "        break"
      ]
    }
  ]
}